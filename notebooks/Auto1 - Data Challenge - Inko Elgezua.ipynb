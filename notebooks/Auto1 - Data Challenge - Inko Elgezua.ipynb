{
 "cells": [
  {
   "cell_type": "markdown",
   "metadata": {},
   "source": [
    "## Auto1 - Data Challenge\n",
    "\n",
    "# Questions:\n",
    "1. List as many use cases for the dataset as possible.\n",
    "2. Pick one of the use cases you listed in question 1 and describe how building a statistical model based on the dataset could best be used to improve Auto1’s business.\n",
    "3. Implement the model you described in question 2 in R or Python.\n",
    "4. Explain each and every of your design choices. Describe how you would improve the model in Question 3 if you had more time."
   ]
  },
  {
   "cell_type": "markdown",
   "metadata": {},
   "source": [
    "### Question 1:\n",
    "Quickly, the cases that I can think of given the dataset would be:\n",
    "1. Quick and easy grouping by car characteristics to see what are the biggest groups, meaning the most common cars\n",
    "2. Clustering, specially to find what are the characteristics that give a high or low value to a car. Same for the symboling value\n",
    "3. Predictive model for car's price\n",
    "4. Predictive model for insurance symboling\n",
    "5. Predictive model for normalized losses (find what cars lose or maintain their value)"
   ]
  },
  {
   "cell_type": "markdown",
   "metadata": {},
   "source": [
    "### Question 2:\n",
    "I think that in the case of Auto1 cases 2 or 3 are the most relevant for Auto1's business. I will specifically focus on case 3.\n",
    "\n",
    "Given that Auto1 deals with used cars, the goal is to optimize the profit margin, i.e. buy cheapest and sell the highest possible. A predictive model will obviously help at that, as if one have an estimate of for how much a car can be sold, the purchase price will come automatically from it given a certain profit that has to be maintained.\n",
    "\n",
    "This also would avoid situations where a car is bought for more than it can be sold reducing the risk of loses because of a bad deal.\n",
    "\n",
    "On the other hand, if the predictive model included location, it would be possible not only to have an estimate of the possible selling price, but find the locations with the highest selling prices for a given type of car and the places where they are sold the cheapest, optiming further the profit."
   ]
  },
  {
   "cell_type": "markdown",
   "metadata": {},
   "source": [
    "### Question 3:\n",
    "Python implementation of a simple predictive model based on Random Forest\n",
    "\n",
    "*Requierements*\n",
    "- Python == 3.5.2\n",
    "- Numpy == 1.11.3\n",
    "- Pandas == 0.19.2\n",
    "- Matplotlib == 1.5.1\n",
    "- scikit-learn==0.18.1"
   ]
  },
  {
   "cell_type": "code",
   "execution_count": 47,
   "metadata": {
    "collapsed": true
   },
   "outputs": [],
   "source": [
    "%matplotlib inline"
   ]
  },
  {
   "cell_type": "code",
   "execution_count": 48,
   "metadata": {
    "collapsed": true
   },
   "outputs": [],
   "source": [
    "import numpy as np\n",
    "import pandas as pd\n",
    "from sklearn.ensemble import RandomForestRegressor\n",
    "from sklearn.model_selection import KFold, train_test_split\n",
    "from sklearn.preprocessing import LabelEncoder\n",
    "import matplotlib.pyplot as plt"
   ]
  },
  {
   "cell_type": "code",
   "execution_count": 49,
   "metadata": {
    "collapsed": false
   },
   "outputs": [
    {
     "name": "stdout",
     "output_type": "stream",
     "text": [
      "[Errno 2] No such file or directory: '../data/input/'\n",
      "/Users/inko/Documents/new_job/home_tasks/Auto1/data/input\n"
     ]
    }
   ],
   "source": [
    "%cd ../data/input/"
   ]
  },
  {
   "cell_type": "code",
   "execution_count": 127,
   "metadata": {
    "collapsed": true
   },
   "outputs": [],
   "source": [
    "# Basic class wrapper around Scikit-Learn RandomForest for convinience\n",
    "class PricePredictor(RandomForestRegressor):\n",
    "    \n",
    "    def __init__(self, n_estimators=50, max_features=3):\n",
    "        self.model = RandomForestRegressor(n_estimators=n_estimators,\n",
    "                                           max_features=max_features)\n",
    "        \n",
    "    def fit(self, X, y):\n",
    "        self.model = self.model.fit(X, y)\n",
    "        \n",
    "    def predict(self, X):\n",
    "        return self.model.predict(X)\n",
    "    \n",
    "    def labelize(self, labels, dataset):\n",
    "        self.labels_encoder = {}\n",
    "        \n",
    "        d = dataset.copy()\n",
    "        for label in labels:\n",
    "            self.labels_encoder[label] = LabelEncoder()\n",
    "            self.labels_encoder[label].fit(d[label])\n",
    "            d[label] = label_encoders[label].transform(d[label])\n",
    "        \n",
    "        return d"
   ]
  },
  {
   "cell_type": "code",
   "execution_count": 23,
   "metadata": {
    "collapsed": true
   },
   "outputs": [],
   "source": [
    "dataset_filename = \"Auto1-DS-TestData_nan.csv\""
   ]
  },
  {
   "cell_type": "code",
   "execution_count": 24,
   "metadata": {
    "collapsed": false
   },
   "outputs": [],
   "source": [
    "raw_dataset = pd.read_csv(dataset_filename)"
   ]
  },
  {
   "cell_type": "code",
   "execution_count": 25,
   "metadata": {
    "collapsed": false
   },
   "outputs": [
    {
     "data": {
      "text/html": [
       "<div>\n",
       "<table border=\"1\" class=\"dataframe\">\n",
       "  <thead>\n",
       "    <tr style=\"text-align: right;\">\n",
       "      <th></th>\n",
       "      <th>symboling</th>\n",
       "      <th>normalized-losses</th>\n",
       "      <th>make</th>\n",
       "      <th>fuel-type</th>\n",
       "      <th>aspiration</th>\n",
       "      <th>num-of-doors</th>\n",
       "      <th>body-style</th>\n",
       "      <th>drive-wheels</th>\n",
       "      <th>engine-location</th>\n",
       "      <th>wheel-base</th>\n",
       "      <th>...</th>\n",
       "      <th>engine-size</th>\n",
       "      <th>fuel-system</th>\n",
       "      <th>bore</th>\n",
       "      <th>stroke</th>\n",
       "      <th>compression-ratio</th>\n",
       "      <th>horsepower</th>\n",
       "      <th>peak-rpm</th>\n",
       "      <th>city-mpg</th>\n",
       "      <th>highway-mpg</th>\n",
       "      <th>price</th>\n",
       "    </tr>\n",
       "  </thead>\n",
       "  <tbody>\n",
       "    <tr>\n",
       "      <th>0</th>\n",
       "      <td>3</td>\n",
       "      <td>NaN</td>\n",
       "      <td>alfa-romero</td>\n",
       "      <td>gas</td>\n",
       "      <td>std</td>\n",
       "      <td>two</td>\n",
       "      <td>convertible</td>\n",
       "      <td>rwd</td>\n",
       "      <td>front</td>\n",
       "      <td>88.6</td>\n",
       "      <td>...</td>\n",
       "      <td>130</td>\n",
       "      <td>mpfi</td>\n",
       "      <td>3.47</td>\n",
       "      <td>2.68</td>\n",
       "      <td>9.0</td>\n",
       "      <td>111.0</td>\n",
       "      <td>5000.0</td>\n",
       "      <td>21</td>\n",
       "      <td>27</td>\n",
       "      <td>13495.0</td>\n",
       "    </tr>\n",
       "    <tr>\n",
       "      <th>1</th>\n",
       "      <td>3</td>\n",
       "      <td>NaN</td>\n",
       "      <td>alfa-romero</td>\n",
       "      <td>gas</td>\n",
       "      <td>std</td>\n",
       "      <td>two</td>\n",
       "      <td>convertible</td>\n",
       "      <td>rwd</td>\n",
       "      <td>front</td>\n",
       "      <td>88.6</td>\n",
       "      <td>...</td>\n",
       "      <td>130</td>\n",
       "      <td>mpfi</td>\n",
       "      <td>3.47</td>\n",
       "      <td>2.68</td>\n",
       "      <td>9.0</td>\n",
       "      <td>111.0</td>\n",
       "      <td>5000.0</td>\n",
       "      <td>21</td>\n",
       "      <td>27</td>\n",
       "      <td>16500.0</td>\n",
       "    </tr>\n",
       "    <tr>\n",
       "      <th>2</th>\n",
       "      <td>1</td>\n",
       "      <td>NaN</td>\n",
       "      <td>alfa-romero</td>\n",
       "      <td>gas</td>\n",
       "      <td>std</td>\n",
       "      <td>two</td>\n",
       "      <td>hatchback</td>\n",
       "      <td>rwd</td>\n",
       "      <td>front</td>\n",
       "      <td>94.5</td>\n",
       "      <td>...</td>\n",
       "      <td>152</td>\n",
       "      <td>mpfi</td>\n",
       "      <td>2.68</td>\n",
       "      <td>3.47</td>\n",
       "      <td>9.0</td>\n",
       "      <td>154.0</td>\n",
       "      <td>5000.0</td>\n",
       "      <td>19</td>\n",
       "      <td>26</td>\n",
       "      <td>16500.0</td>\n",
       "    </tr>\n",
       "    <tr>\n",
       "      <th>3</th>\n",
       "      <td>2</td>\n",
       "      <td>164.0</td>\n",
       "      <td>audi</td>\n",
       "      <td>gas</td>\n",
       "      <td>std</td>\n",
       "      <td>four</td>\n",
       "      <td>sedan</td>\n",
       "      <td>fwd</td>\n",
       "      <td>front</td>\n",
       "      <td>99.8</td>\n",
       "      <td>...</td>\n",
       "      <td>109</td>\n",
       "      <td>mpfi</td>\n",
       "      <td>3.19</td>\n",
       "      <td>3.40</td>\n",
       "      <td>10.0</td>\n",
       "      <td>102.0</td>\n",
       "      <td>5500.0</td>\n",
       "      <td>24</td>\n",
       "      <td>30</td>\n",
       "      <td>13950.0</td>\n",
       "    </tr>\n",
       "    <tr>\n",
       "      <th>4</th>\n",
       "      <td>2</td>\n",
       "      <td>164.0</td>\n",
       "      <td>audi</td>\n",
       "      <td>gas</td>\n",
       "      <td>std</td>\n",
       "      <td>four</td>\n",
       "      <td>sedan</td>\n",
       "      <td>4wd</td>\n",
       "      <td>front</td>\n",
       "      <td>99.4</td>\n",
       "      <td>...</td>\n",
       "      <td>136</td>\n",
       "      <td>mpfi</td>\n",
       "      <td>3.19</td>\n",
       "      <td>3.40</td>\n",
       "      <td>8.0</td>\n",
       "      <td>115.0</td>\n",
       "      <td>5500.0</td>\n",
       "      <td>18</td>\n",
       "      <td>22</td>\n",
       "      <td>17450.0</td>\n",
       "    </tr>\n",
       "  </tbody>\n",
       "</table>\n",
       "<p>5 rows × 26 columns</p>\n",
       "</div>"
      ],
      "text/plain": [
       "   symboling  normalized-losses         make fuel-type aspiration  \\\n",
       "0          3                NaN  alfa-romero       gas        std   \n",
       "1          3                NaN  alfa-romero       gas        std   \n",
       "2          1                NaN  alfa-romero       gas        std   \n",
       "3          2              164.0         audi       gas        std   \n",
       "4          2              164.0         audi       gas        std   \n",
       "\n",
       "  num-of-doors   body-style drive-wheels engine-location  wheel-base   ...     \\\n",
       "0          two  convertible          rwd           front        88.6   ...      \n",
       "1          two  convertible          rwd           front        88.6   ...      \n",
       "2          two    hatchback          rwd           front        94.5   ...      \n",
       "3         four        sedan          fwd           front        99.8   ...      \n",
       "4         four        sedan          4wd           front        99.4   ...      \n",
       "\n",
       "   engine-size  fuel-system  bore  stroke compression-ratio horsepower  \\\n",
       "0          130         mpfi  3.47    2.68               9.0      111.0   \n",
       "1          130         mpfi  3.47    2.68               9.0      111.0   \n",
       "2          152         mpfi  2.68    3.47               9.0      154.0   \n",
       "3          109         mpfi  3.19    3.40              10.0      102.0   \n",
       "4          136         mpfi  3.19    3.40               8.0      115.0   \n",
       "\n",
       "   peak-rpm city-mpg  highway-mpg    price  \n",
       "0    5000.0       21           27  13495.0  \n",
       "1    5000.0       21           27  16500.0  \n",
       "2    5000.0       19           26  16500.0  \n",
       "3    5500.0       24           30  13950.0  \n",
       "4    5500.0       18           22  17450.0  \n",
       "\n",
       "[5 rows x 26 columns]"
      ]
     },
     "execution_count": 25,
     "metadata": {},
     "output_type": "execute_result"
    }
   ],
   "source": [
    "raw_dataset.head()"
   ]
  },
  {
   "cell_type": "code",
   "execution_count": 26,
   "metadata": {
    "collapsed": false
   },
   "outputs": [
    {
     "data": {
      "text/plain": [
       "(205, 26)"
      ]
     },
     "execution_count": 26,
     "metadata": {},
     "output_type": "execute_result"
    }
   ],
   "source": [
    "raw_dataset.shape"
   ]
  },
  {
   "cell_type": "code",
   "execution_count": 27,
   "metadata": {
    "collapsed": false
   },
   "outputs": [
    {
     "data": {
      "text/plain": [
       "Index(['symboling', 'normalized-losses', 'make', 'fuel-type', 'aspiration',\n",
       "       'num-of-doors', 'body-style', 'drive-wheels', 'engine-location',\n",
       "       'wheel-base', 'length', 'width', 'height', 'curb-weight', 'engine-type',\n",
       "       'num-of-cylinders', 'engine-size', 'fuel-system', 'bore', 'stroke',\n",
       "       'compression-ratio', 'horsepower', 'peak-rpm', 'city-mpg',\n",
       "       'highway-mpg', 'price'],\n",
       "      dtype='object')"
      ]
     },
     "execution_count": 27,
     "metadata": {},
     "output_type": "execute_result"
    }
   ],
   "source": [
    "raw_dataset.columns"
   ]
  },
  {
   "cell_type": "code",
   "execution_count": 128,
   "metadata": {
    "collapsed": false
   },
   "outputs": [
    {
     "data": {
      "text/plain": [
       "body-style   drive-wheels\n",
       "convertible  fwd              1\n",
       "             rwd              5\n",
       "hardtop      fwd              1\n",
       "             rwd              7\n",
       "hatchback    4wd              2\n",
       "             fwd             49\n",
       "             rwd             19\n",
       "sedan        4wd              3\n",
       "             fwd             57\n",
       "             rwd             36\n",
       "wagon        4wd              4\n",
       "             fwd             12\n",
       "             rwd              9\n",
       "dtype: int64"
      ]
     },
     "execution_count": 128,
     "metadata": {},
     "output_type": "execute_result"
    }
   ],
   "source": [
    "# Checking combinations of body-style and driving wheels as some types of cars tend to prefer one or the other\n",
    "raw_dataset.groupby([\"body-style\", \"drive-wheels\"]).size()"
   ]
  },
  {
   "cell_type": "code",
   "execution_count": 29,
   "metadata": {
    "collapsed": false
   },
   "outputs": [
    {
     "data": {
      "text/plain": [
       "drive-wheels  engine-location\n",
       "4wd           front                9\n",
       "fwd           front              120\n",
       "rwd           front               73\n",
       "              rear                 3\n",
       "dtype: int64"
      ]
     },
     "execution_count": 29,
     "metadata": {},
     "output_type": "execute_result"
    }
   ],
   "source": [
    "# Similar to above but with engine location. As there are only 3 samples or rwd rear, can ignore this field\n",
    "raw_dataset.groupby([\"drive-wheels\", \"engine-location\"]).size()"
   ]
  },
  {
   "cell_type": "code",
   "execution_count": 30,
   "metadata": {
    "collapsed": false
   },
   "outputs": [
    {
     "data": {
      "text/plain": [
       "126    32528.0\n",
       "127    34028.0\n",
       "128    37028.0\n",
       "Name: price, dtype: float64"
      ]
     },
     "execution_count": 30,
     "metadata": {},
     "output_type": "execute_result"
    }
   ],
   "source": [
    "# Given that also their price is in the top percentiles, no much harm by ignoring this feature\n",
    "raw_dataset[raw_dataset[\"engine-location\"]==\"rear\"].price"
   ]
  },
  {
   "cell_type": "code",
   "execution_count": 31,
   "metadata": {
    "collapsed": false
   },
   "outputs": [
    {
     "data": {
      "text/plain": [
       "count      198.000000\n",
       "mean     12884.085859\n",
       "std       7552.278510\n",
       "min       5118.000000\n",
       "25%       7775.000000\n",
       "50%      10221.500000\n",
       "75%      16322.000000\n",
       "max      45400.000000\n",
       "Name: price, dtype: float64"
      ]
     },
     "execution_count": 31,
     "metadata": {},
     "output_type": "execute_result"
    }
   ],
   "source": [
    "raw_dataset[raw_dataset[\"engine-location\"]!=\"rear\"].price.describe()"
   ]
  },
  {
   "cell_type": "code",
   "execution_count": 118,
   "metadata": {
    "collapsed": false
   },
   "outputs": [],
   "source": [
    "# Working data set to avoid having to reload it from the file for every transformation or test\n",
    "dataset = raw_dataset.loc[:, ['make', 'fuel-type', 'aspiration', 'num-of-doors',\n",
    "                              'body-style', 'drive-wheels', 'length', 'width', 'height',\n",
    "                              'curb-weight', 'engine-type', 'num-of-cylinders',\n",
    "                              'engine-size', 'fuel-system', 'horsepower',\n",
    "                              'peak-rpm', 'city-mpg', 'highway-mpg', 'price']].copy()"
   ]
  },
  {
   "cell_type": "code",
   "execution_count": 119,
   "metadata": {
    "collapsed": false
   },
   "outputs": [
    {
     "data": {
      "text/plain": [
       "(205, 19)"
      ]
     },
     "execution_count": 119,
     "metadata": {},
     "output_type": "execute_result"
    }
   ],
   "source": [
    "dataset.shape"
   ]
  },
  {
   "cell_type": "code",
   "execution_count": 120,
   "metadata": {
    "collapsed": false
   },
   "outputs": [
    {
     "data": {
      "text/plain": [
       "(197, 19)"
      ]
     },
     "execution_count": 120,
     "metadata": {},
     "output_type": "execute_result"
    }
   ],
   "source": [
    "# Droping NaNs only loses 8 cars, in this case acceptable\n",
    "dataset = dataset.dropna()\n",
    "dataset.shape"
   ]
  },
  {
   "cell_type": "code",
   "execution_count": 121,
   "metadata": {
    "collapsed": false
   },
   "outputs": [
    {
     "data": {
      "text/plain": [
       "count      197.000000\n",
       "mean     13279.644670\n",
       "std       8010.334218\n",
       "min       5118.000000\n",
       "25%       7775.000000\n",
       "50%      10345.000000\n",
       "75%      16503.000000\n",
       "max      45400.000000\n",
       "Name: price, dtype: float64"
      ]
     },
     "execution_count": 121,
     "metadata": {},
     "output_type": "execute_result"
    }
   ],
   "source": [
    "dataset.price.describe()"
   ]
  },
  {
   "cell_type": "code",
   "execution_count": 122,
   "metadata": {
    "collapsed": false
   },
   "outputs": [],
   "source": [
    "categories = ['make', 'fuel-type', 'aspiration', 'body-style', 'num-of-doors',\n",
    "              'drive-wheels', 'num-of-cylinders', 'engine-type', 'fuel-system']\n",
    "\n",
    "price_model = PricePredictor(25)\n",
    "dataset = price_model.labelize(categories, dataset)"
   ]
  },
  {
   "cell_type": "code",
   "execution_count": 123,
   "metadata": {
    "collapsed": false
   },
   "outputs": [
    {
     "data": {
      "text/html": [
       "<div>\n",
       "<table border=\"1\" class=\"dataframe\">\n",
       "  <thead>\n",
       "    <tr style=\"text-align: right;\">\n",
       "      <th></th>\n",
       "      <th>make</th>\n",
       "      <th>fuel-type</th>\n",
       "      <th>aspiration</th>\n",
       "      <th>num-of-doors</th>\n",
       "      <th>body-style</th>\n",
       "      <th>drive-wheels</th>\n",
       "      <th>length</th>\n",
       "      <th>width</th>\n",
       "      <th>height</th>\n",
       "      <th>curb-weight</th>\n",
       "      <th>engine-type</th>\n",
       "      <th>num-of-cylinders</th>\n",
       "      <th>engine-size</th>\n",
       "      <th>fuel-system</th>\n",
       "      <th>horsepower</th>\n",
       "      <th>peak-rpm</th>\n",
       "      <th>city-mpg</th>\n",
       "      <th>highway-mpg</th>\n",
       "      <th>price</th>\n",
       "    </tr>\n",
       "  </thead>\n",
       "  <tbody>\n",
       "    <tr>\n",
       "      <th>0</th>\n",
       "      <td>0</td>\n",
       "      <td>1</td>\n",
       "      <td>0</td>\n",
       "      <td>1</td>\n",
       "      <td>0</td>\n",
       "      <td>2</td>\n",
       "      <td>168.8</td>\n",
       "      <td>64.1</td>\n",
       "      <td>48.8</td>\n",
       "      <td>2548</td>\n",
       "      <td>0</td>\n",
       "      <td>2</td>\n",
       "      <td>130</td>\n",
       "      <td>5</td>\n",
       "      <td>111.0</td>\n",
       "      <td>5000.0</td>\n",
       "      <td>21</td>\n",
       "      <td>27</td>\n",
       "      <td>13495.0</td>\n",
       "    </tr>\n",
       "    <tr>\n",
       "      <th>1</th>\n",
       "      <td>0</td>\n",
       "      <td>1</td>\n",
       "      <td>0</td>\n",
       "      <td>1</td>\n",
       "      <td>0</td>\n",
       "      <td>2</td>\n",
       "      <td>168.8</td>\n",
       "      <td>64.1</td>\n",
       "      <td>48.8</td>\n",
       "      <td>2548</td>\n",
       "      <td>0</td>\n",
       "      <td>2</td>\n",
       "      <td>130</td>\n",
       "      <td>5</td>\n",
       "      <td>111.0</td>\n",
       "      <td>5000.0</td>\n",
       "      <td>21</td>\n",
       "      <td>27</td>\n",
       "      <td>16500.0</td>\n",
       "    </tr>\n",
       "    <tr>\n",
       "      <th>2</th>\n",
       "      <td>0</td>\n",
       "      <td>1</td>\n",
       "      <td>0</td>\n",
       "      <td>1</td>\n",
       "      <td>2</td>\n",
       "      <td>2</td>\n",
       "      <td>171.2</td>\n",
       "      <td>65.5</td>\n",
       "      <td>52.4</td>\n",
       "      <td>2823</td>\n",
       "      <td>4</td>\n",
       "      <td>3</td>\n",
       "      <td>152</td>\n",
       "      <td>5</td>\n",
       "      <td>154.0</td>\n",
       "      <td>5000.0</td>\n",
       "      <td>19</td>\n",
       "      <td>26</td>\n",
       "      <td>16500.0</td>\n",
       "    </tr>\n",
       "    <tr>\n",
       "      <th>3</th>\n",
       "      <td>1</td>\n",
       "      <td>1</td>\n",
       "      <td>0</td>\n",
       "      <td>0</td>\n",
       "      <td>3</td>\n",
       "      <td>1</td>\n",
       "      <td>176.6</td>\n",
       "      <td>66.2</td>\n",
       "      <td>54.3</td>\n",
       "      <td>2337</td>\n",
       "      <td>2</td>\n",
       "      <td>2</td>\n",
       "      <td>109</td>\n",
       "      <td>5</td>\n",
       "      <td>102.0</td>\n",
       "      <td>5500.0</td>\n",
       "      <td>24</td>\n",
       "      <td>30</td>\n",
       "      <td>13950.0</td>\n",
       "    </tr>\n",
       "    <tr>\n",
       "      <th>4</th>\n",
       "      <td>1</td>\n",
       "      <td>1</td>\n",
       "      <td>0</td>\n",
       "      <td>0</td>\n",
       "      <td>3</td>\n",
       "      <td>0</td>\n",
       "      <td>176.6</td>\n",
       "      <td>66.4</td>\n",
       "      <td>54.3</td>\n",
       "      <td>2824</td>\n",
       "      <td>2</td>\n",
       "      <td>1</td>\n",
       "      <td>136</td>\n",
       "      <td>5</td>\n",
       "      <td>115.0</td>\n",
       "      <td>5500.0</td>\n",
       "      <td>18</td>\n",
       "      <td>22</td>\n",
       "      <td>17450.0</td>\n",
       "    </tr>\n",
       "  </tbody>\n",
       "</table>\n",
       "</div>"
      ],
      "text/plain": [
       "   make  fuel-type  aspiration  num-of-doors  body-style  drive-wheels  \\\n",
       "0     0          1           0             1           0             2   \n",
       "1     0          1           0             1           0             2   \n",
       "2     0          1           0             1           2             2   \n",
       "3     1          1           0             0           3             1   \n",
       "4     1          1           0             0           3             0   \n",
       "\n",
       "   length  width  height  curb-weight  engine-type  num-of-cylinders  \\\n",
       "0   168.8   64.1    48.8         2548            0                 2   \n",
       "1   168.8   64.1    48.8         2548            0                 2   \n",
       "2   171.2   65.5    52.4         2823            4                 3   \n",
       "3   176.6   66.2    54.3         2337            2                 2   \n",
       "4   176.6   66.4    54.3         2824            2                 1   \n",
       "\n",
       "   engine-size  fuel-system  horsepower  peak-rpm  city-mpg  highway-mpg  \\\n",
       "0          130            5       111.0    5000.0        21           27   \n",
       "1          130            5       111.0    5000.0        21           27   \n",
       "2          152            5       154.0    5000.0        19           26   \n",
       "3          109            5       102.0    5500.0        24           30   \n",
       "4          136            5       115.0    5500.0        18           22   \n",
       "\n",
       "     price  \n",
       "0  13495.0  \n",
       "1  16500.0  \n",
       "2  16500.0  \n",
       "3  13950.0  \n",
       "4  17450.0  "
      ]
     },
     "execution_count": 123,
     "metadata": {},
     "output_type": "execute_result"
    }
   ],
   "source": [
    "dataset.head()"
   ]
  },
  {
   "cell_type": "code",
   "execution_count": 124,
   "metadata": {
    "collapsed": true
   },
   "outputs": [],
   "source": [
    "x = dataset.copy().drop([\"price\"], axis=1)\n",
    "y = dataset.copy().loc[:, [\"price\"]]\n",
    "X_train, X_test, y_train, y_test = train_test_split(x, y, test_size=0.4)"
   ]
  },
  {
   "cell_type": "code",
   "execution_count": 125,
   "metadata": {
    "collapsed": false
   },
   "outputs": [
    {
     "name": "stderr",
     "output_type": "stream",
     "text": [
      "/Users/inko/anaconda/lib/python3.5/site-packages/ipykernel/__main__.py:8: DataConversionWarning: A column-vector y was passed when a 1d array was expected. Please change the shape of y to (n_samples,), for example using ravel().\n"
     ]
    }
   ],
   "source": [
    "price_model.fit(X_train, y_train)\n",
    "y_hat = price_model.predict(X_test)"
   ]
  },
  {
   "cell_type": "code",
   "execution_count": 129,
   "metadata": {
    "collapsed": false
   },
   "outputs": [
    {
     "data": {
      "image/png": "[encoded data removed]",
      "text/plain": [
       "<matplotlib.figure.Figure at 0x112dcc2b0>"
      ]
     },
     "metadata": {},
     "output_type": "display_data"
    },
    {
     "data": {
      "image/png": "[encoded data removed]",
      "text/plain": [
       "<matplotlib.figure.Figure at 0x112b4cc50>"
      ]
     },
     "metadata": {},
     "output_type": "display_data"
    },
    {
     "data": {
      "image/png": "[encoded data removed]",
      "text/plain": [
       "<matplotlib.figure.Figure at 0x112b687b8>"
      ]
     },
     "metadata": {},
     "output_type": "display_data"
    },
    {
     "data": {
      "image/png": "[encoded data removed]",
      "text/plain": [
       "<matplotlib.figure.Figure at 0x10f7b9e80>"
      ]
     },
     "metadata": {},
     "output_type": "display_data"
    }
   ],
   "source": [
    "# Errors\n",
    "r = y_test.copy()\n",
    "r[\"y_hat\"] = y_hat\n",
    "r[\"relative_error\"] = r.y_hat - r.price\n",
    "r[\"absolute_error\"] = r.relative_error / r.price\n",
    "r[\"cum_error\"] = r.relative_error.cumsum()\n",
    "\n",
    "# Plotting\n",
    "plt.title(\"Relative Errors of Price\")\n",
    "plt.xlabel(\"Cars\")\n",
    "plt.ylabel(\"Relative Error\")\n",
    "plt.plot(np.arange(r.shape[0]), r.relative_error)\n",
    "plt.show()\n",
    "\n",
    "plt.title(\"Cumulative Sum of Price\")\n",
    "plt.xlabel(\"Cumulative Number of Cars\")\n",
    "plt.ylabel(\"Cumulative Sum of Price\")\n",
    "plt.plot(np.arange(r.shape[0]), r.price.cumsum(), color=\"g\")\n",
    "plt.plot(np.arange(r.shape[0]), r.y_hat.cumsum(), color=\"r\")\n",
    "plt.show()\n",
    "\n",
    "plt.title(\"Absolute Errors of Price\")\n",
    "plt.xlabel(\"Cars\")\n",
    "plt.ylabel(\"Absolute Error of Prediction\")\n",
    "plt.plot(np.arange(r.shape[0]), r.absolute_error)\n",
    "plt.show()\n",
    "\n",
    "# To check assumption that residuals are normally distributed\n",
    "plt.title(\"Distribution of Relative Errors\")\n",
    "plt.xlabel(\"Relative Error\")\n",
    "plt.ylabel(\"Frequency\")\n",
    "plt.hist(r.relative_error, bins=75)\n",
    "plt.show()"
   ]
  },
  {
   "cell_type": "code",
   "execution_count": 130,
   "metadata": {
    "collapsed": false
   },
   "outputs": [
    {
     "name": "stdout",
     "output_type": "stream",
     "text": [
      "Mean relative error: 246.019916\n",
      "Mean absolute error: 0.044742\n"
     ]
    }
   ],
   "source": [
    "print(\"Mean relative error: %f\" % r[\"relative_error\"].mean())\n",
    "print(\"Mean absolute error: %f\" % r[\"absolute_error\"].mean())"
   ]
  },
  {
   "cell_type": "markdown",
   "metadata": {},
   "source": [
    "## Question 4:\n",
    "\n",
    "### Explain each and every of your design choices\n",
    "Given that the problem at hand is a regression, there are some possible models to consider:\n",
    "- Linear Regression\n",
    "- Random Forest\n",
    "- Neural Networks\n",
    "- SVM\n",
    "\n",
    "The last two (ANN, SVM) have more hyper-parameters or might need a kernel function, thus, due to limited time and small data set, it is not worth the effort.\n",
    "\n",
    "Linear regression is an easy option but it also requires to make assumptions on feature dependency (linear, quadratic, etc.), not to mention that the features should be independent which is not generally the case with the features given. Also, because we have a mix of categorical and numerical data, we would need to transform the categorical data into a vector (one-hot encoding for example) creating even more features in a dataset with already 26 features but only 200 samples. \n",
    "\n",
    "In general, I tend to favor Random Forest. On one hand, because they are easy to have them working, have few hyper-parameters to tune and on the other, because in practice they have shown to have good results out of the box.\n",
    "\n",
    "Because I already have a prototype of a wrapper around Scikit-Learn RandomForest, I decided to use it instead of directly using Scikit-Learn's one. The idea of the wrapper is to have added functionally that generally is good to have such as pickle/unpickle trained models, import/export training data, data set transformations, model scoring, plot functions, etc.\n",
    "\n",
    "Because of the small data set, I decided to reduce the number of features to the minimum possible, so I just took the ones that I thought are generally driving the price of cars, or at least the ones that people look at. For that reason directly dropped symboling and normalized losses and the more technical motor properties.\n",
    "\n",
    "Next I analyzed the distribution of car type, drive wheels and power transmission. Generally sport cars tend to have front motor with rear wheel transmission, sedans front motor and fwd, etc. Given the combinations, I decided to only remove drive-wheels as there are only 3 samples. I also removed wheelbase because generally the length of the car is more relevant.\n",
    "\n",
    "Initially I was thinking on doing a K-Fold cross-validation due to the small sample size instead of train-test split, but after playing a bit manually with the number of trees and split, didn't make much sense to go that route since in few tries the model quickly got to what seems to be its best performance, so I decided to just leave it with a simple split.\n",
    "\n",
    "The reason why I chose 25 trees and a 60-40 split is as I said, because it seems to give the best fit. I tried 25, 50 and 75 trees and 0.4 and 0.2 for the training-test split.\n",
    "\n",
    "With 25 and 0.4 seems to be one of the best combinations. Clearly, with such a small data set, a big split and few trees avoids overfitting, as expected. With a bigger training set of more trees, the test predictions decay very fast.\n",
    "\n",
    "Generally I would look at the RMS, average (or median) individual error or Pearson correlation coefficient, but again, given the time limitation, small data set and that there is really no need for optimization, a simple look at the errors I think is enough to evaluate the model.\n",
    "\n",
    "Of course making sure that the errors are normally distributed, that more or less do given the small sample, is important and that's why the graph is there. The other three graphs at the top are just a quick visual reference of the model fit without having to calculate any other score. \n",
    "\n",
    "### Describe how you would improve the model in Question 3 if you had more time.\n",
    "The first thing that I would look at is the correlation between features. There are features that are defenitely correlated. For example, diesel cars tend to be heavier, have better mpgs and longer strokes than gas engines. Turbo cars have more power and as I mentioned earlier, some types of cars tend to have associated some wheel drive, motor location, turbo, etc. For example sport cars will tend to be turbo, rwd, with higher power, worse mpg and more expensive, also they tend to have convertible versions. Length and wheelbase and type of car (hatchbag has a more equal wheelbase to length than a sedan for example, etc.) are another two features that can be closely correlated for example.\n",
    "\n",
    "So the next thing that I would do is look at the correlation matrix and may be even try a correlation matrix clustering to further reduce the number of features.\n",
    "\n",
    "I would also explore linear regression as an alternative to Random Forest. Once the baseline is achieved with a naive Random Forest model, it is easier to know what score to beat and optimize from there.\n",
    "\n",
    "A further step of course is to find a better fit for the Random Forest than manually setting the number of trees and split, so I would do a K-Fold cross-validation to optimize the hyper-parameters in the Random Forest.\n",
    "\n",
    "Finally, I would look at those cars with a big error. My bet is that those are the rare cases, rwd, 4wd, turbo, etc. An alternative to improve the predictive accuracy could be to add more of those into the dataset to balance the \"classes\"."
   ]
  }
 ],
 "metadata": {
  "kernelspec": {
   "display_name": "Python 3",
   "language": "python",
   "name": "python3"
  },
  "language_info": {
   "codemirror_mode": {
    "name": "ipython",
    "version": 3
   },
   "file_extension": ".py",
   "mimetype": "text/x-python",
   "name": "python",
   "nbconvert_exporter": "python",
   "pygments_lexer": "ipython3",
   "version": "3.5.2"
  }
 },
 "nbformat": 4,
 "nbformat_minor": 2
}
